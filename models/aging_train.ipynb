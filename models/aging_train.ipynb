{
 "cells": [
  {
   "cell_type": "code",
   "execution_count": 1,
   "metadata": {},
   "outputs": [
    {
     "name": "stdout",
     "output_type": "stream",
     "text": [
      "Python Version\n",
      "3.7.6 (default, Jan  8 2020, 20:23:39) [MSC v.1916 64 bit (AMD64)]\n"
     ]
    }
   ],
   "source": [
    "import sys\n",
    "print(\"Python Version\")\n",
    "print(sys.version)"
   ]
  },
  {
   "cell_type": "code",
   "execution_count": 2,
   "metadata": {},
   "outputs": [
    {
     "name": "stderr",
     "output_type": "stream",
     "text": [
      "[nltk_data] Error loading punkt: [WinError 10060]\n",
      "[nltk_data]     由于连接方在一段时间后没有正确答复或连接的主机没有反应，连接尝试失败。\n",
      "[nltk_data] Downloading package stopwords to\n",
      "[nltk_data]     C:\\Users\\pc\\AppData\\Roaming\\nltk_data...\n",
      "[nltk_data]   Package stopwords is already up-to-date!\n",
      "[nltk_data] Downloading package vader_lexicon to\n",
      "[nltk_data]     C:\\Users\\pc\\AppData\\Roaming\\nltk_data...\n",
      "[nltk_data]   Package vader_lexicon is already up-to-date!\n"
     ]
    },
    {
     "data": {
      "text/plain": [
       "True"
      ]
     },
     "execution_count": 2,
     "metadata": {},
     "output_type": "execute_result"
    }
   ],
   "source": [
    "# Import required packages\n",
    "\n",
    "# Python Standard Packages\n",
    "\n",
    "import re\n",
    "import pickle\n",
    "\n",
    "# External Packages\n",
    "import numpy as np\n",
    "import pandas as pd\n",
    "import tensorflow as tf\n",
    "\n",
    "import matplotlib\n",
    "import matplotlib.pyplot as plt\n",
    "import seaborn as sns\n",
    "\n",
    "# For model building\n",
    "import keras\n",
    "from keras.preprocessing import sequence\n",
    "from keras.preprocessing.text import Tokenizer\n",
    "from keras.models import Sequential\n",
    "from keras.layers import Bidirectional, LSTM, Dense, Activation, Embedding\n",
    "from keras.utils import np_utils\n",
    "\n",
    "# For model selection & evaluation\n",
    "import sklearn\n",
    "from sklearn.metrics import roc_auc_score, roc_curve, auc\n",
    "from sklearn.model_selection import train_test_split\n",
    "\n",
    "# For text cleaning & preprocessing\n",
    "import nltk\n",
    "from nltk.corpus import stopwords\n",
    "from nltk.sentiment.vader import SentimentIntensityAnalyzer\n",
    "from nltk.stem import SnowballStemmer, WordNetLemmatizer\n",
    "from nltk.stem.porter import PorterStemmer\n",
    "from nltk import sent_tokenize, word_tokenize, pos_tag\n",
    "from bs4 import BeautifulSoup  \n",
    "\n",
    "# For ignoring the warnings\n",
    "import warnings\n",
    "warnings.filterwarnings('ignore')\n",
    "\n",
    "# To generate word2vec embeddings\n",
    "from gensim.models import word2vec, Word2Vec\n",
    "from gensim.models.keyedvectors import KeyedVectors\n",
    "\n",
    "# Generating WordClouds\n",
    "import wordcloud\n",
    "from wordcloud import WordCloud\n",
    "\n",
    "nltk.download(\"punkt\")\n",
    "nltk.download('stopwords')\n",
    "nltk.download(\"vader_lexicon\")"
   ]
  },
  {
   "cell_type": "code",
   "execution_count": 3,
   "metadata": {},
   "outputs": [
    {
     "data": {
      "text/html": [
       "<div>\n",
       "<style scoped>\n",
       "    .dataframe tbody tr th:only-of-type {\n",
       "        vertical-align: middle;\n",
       "    }\n",
       "\n",
       "    .dataframe tbody tr th {\n",
       "        vertical-align: top;\n",
       "    }\n",
       "\n",
       "    .dataframe thead th {\n",
       "        text-align: right;\n",
       "    }\n",
       "</style>\n",
       "<table border=\"1\" class=\"dataframe\">\n",
       "  <thead>\n",
       "    <tr style=\"text-align: right;\">\n",
       "      <th></th>\n",
       "      <th>code</th>\n",
       "      <th>label</th>\n",
       "    </tr>\n",
       "  </thead>\n",
       "  <tbody>\n",
       "    <tr>\n",
       "      <th>646</th>\n",
       "      <td>+\\n</td>\n",
       "      <td>2</td>\n",
       "    </tr>\n",
       "    <tr>\n",
       "      <th>1784</th>\n",
       "      <td>+\\n</td>\n",
       "      <td>3</td>\n",
       "    </tr>\n",
       "    <tr>\n",
       "      <th>1075</th>\n",
       "      <td>+        } else {\\n</td>\n",
       "      <td>3</td>\n",
       "    </tr>\n",
       "    <tr>\n",
       "      <th>2731</th>\n",
       "      <td>+    \\ttry {\\n</td>\n",
       "      <td>4</td>\n",
       "    </tr>\n",
       "    <tr>\n",
       "      <th>1291</th>\n",
       "      <td>+        if (data != null) {\\n</td>\n",
       "      <td>3</td>\n",
       "    </tr>\n",
       "  </tbody>\n",
       "</table>\n",
       "</div>"
      ],
      "text/plain": [
       "                                code  label\n",
       "646                              +\\n      2\n",
       "1784                             +\\n      3\n",
       "1075             +        } else {\\n      3\n",
       "2731                  +    \\ttry {\\n      4\n",
       "1291  +        if (data != null) {\\n      3"
      ]
     },
     "execution_count": 3,
     "metadata": {},
     "output_type": "execute_result"
    }
   ],
   "source": [
    "dataset_path = \"Training.xlsx\"\n",
    "data_df = pd.read_excel(dataset_path, lines=True)\n",
    "data_df.sample(5)"
   ]
  },
  {
   "cell_type": "code",
   "execution_count": 4,
   "metadata": {},
   "outputs": [
    {
     "data": {
      "text/html": [
       "<div>\n",
       "<style scoped>\n",
       "    .dataframe tbody tr th:only-of-type {\n",
       "        vertical-align: middle;\n",
       "    }\n",
       "\n",
       "    .dataframe tbody tr th {\n",
       "        vertical-align: top;\n",
       "    }\n",
       "\n",
       "    .dataframe thead th {\n",
       "        text-align: right;\n",
       "    }\n",
       "</style>\n",
       "<table border=\"1\" class=\"dataframe\">\n",
       "  <thead>\n",
       "    <tr style=\"text-align: right;\">\n",
       "      <th></th>\n",
       "      <th>label</th>\n",
       "    </tr>\n",
       "  </thead>\n",
       "  <tbody>\n",
       "    <tr>\n",
       "      <th>count</th>\n",
       "      <td>2839.000000</td>\n",
       "    </tr>\n",
       "    <tr>\n",
       "      <th>mean</th>\n",
       "      <td>2.492427</td>\n",
       "    </tr>\n",
       "    <tr>\n",
       "      <th>std</th>\n",
       "      <td>1.037627</td>\n",
       "    </tr>\n",
       "    <tr>\n",
       "      <th>min</th>\n",
       "      <td>0.000000</td>\n",
       "    </tr>\n",
       "    <tr>\n",
       "      <th>25%</th>\n",
       "      <td>2.000000</td>\n",
       "    </tr>\n",
       "    <tr>\n",
       "      <th>50%</th>\n",
       "      <td>3.000000</td>\n",
       "    </tr>\n",
       "    <tr>\n",
       "      <th>75%</th>\n",
       "      <td>3.000000</td>\n",
       "    </tr>\n",
       "    <tr>\n",
       "      <th>max</th>\n",
       "      <td>4.000000</td>\n",
       "    </tr>\n",
       "  </tbody>\n",
       "</table>\n",
       "</div>"
      ],
      "text/plain": [
       "             label\n",
       "count  2839.000000\n",
       "mean      2.492427\n",
       "std       1.037627\n",
       "min       0.000000\n",
       "25%       2.000000\n",
       "50%       3.000000\n",
       "75%       3.000000\n",
       "max       4.000000"
      ]
     },
     "execution_count": 4,
     "metadata": {},
     "output_type": "execute_result"
    }
   ],
   "source": [
    "# Summary of Numerical Features\n",
    "data_df.describe()"
   ]
  },
  {
   "cell_type": "code",
   "execution_count": 5,
   "metadata": {},
   "outputs": [
    {
     "data": {
      "image/png": "[encoded data removed]",
      "text/plain": [
       "<Figure size 1080x1080 with 1 Axes>"
      ]
     },
     "metadata": {
      "needs_background": "light"
     },
     "output_type": "display_data"
    }
   ],
   "source": [
    "# See what kind of words appear in the dataset\n",
    "\n",
    "def plot_wordcloud(data):\n",
    "\n",
    "    wordcloud = WordCloud(random_state = 42,max_words = 200,background_color = 'white',max_font_size = 35,scale = 3)\n",
    "    wordcloud = wordcloud.generate(str(data))\n",
    "\n",
    "    fig = plt.figure(1, figsize = (15, 15))\n",
    "    plt.axis('off')\n",
    "\n",
    "    plt.imshow(wordcloud)\n",
    "    plt.show()\n",
    "\n",
    "plot_wordcloud(data_df[\"code\"])"
   ]
  },
  {
   "cell_type": "code",
   "execution_count": 6,
   "metadata": {},
   "outputs": [
    {
     "name": "stdout",
     "output_type": "stream",
     "text": [
      "Count of training examples: 1987\n",
      "Count of test examples: 852\n"
     ]
    }
   ],
   "source": [
    "# Split train & test data in ratio 7:3 in a stratified manner\n",
    "X_train, X_test, y_train, y_test = train_test_split(data_df['code'], data_df['label'], test_size=0.3, random_state=0, stratify=data_df['label'])\n",
    "\n",
    "print(f\"Count of training examples: {X_train.shape[0]}\")\n",
    "print(f\"Count of test examples: {X_test.shape[0]}\")"
   ]
  },
  {
   "cell_type": "code",
   "execution_count": 7,
   "metadata": {},
   "outputs": [],
   "source": [
    "def cleanCode(Code, remove_stopwords=False, stemming=False, split_text=False):\n",
    "\n",
    "    Code = BeautifulSoup(Code, 'lxml').get_text()\n",
    "    Code = re.sub(\"[^a-zA-Z]\", \" \", Code) \n",
    "    Code = Code.lower().split()\n",
    "    \n",
    "    if remove_stopwords:\n",
    "        Code = [w for w in Code if not w in set(stopwords.words(\"english\"))]\n",
    "        \n",
    "    if stemming:\n",
    "        Code = [SnowballStemmer('english').stem(w) for w in Code]\n",
    "        \n",
    "    if split_text:\n",
    "        return Code\n",
    "    else:\n",
    "        return(\" \".join(Code))\n",
    "\n",
    "X_train_cleaned = [cleanCode(Code) for Code in X_train]\n",
    "X_test_cleaned = [cleanCode(Code) for Code in X_test]"
   ]
  },
  {
   "cell_type": "code",
   "execution_count": 8,
   "metadata": {},
   "outputs": [],
   "source": [
    "# Extract sentences from Code in training set\n",
    "\n",
    "def extract_sentences(Code, tokenizer, remove_stopwords=False):\n",
    "\n",
    "    sentences = tokenizer.tokenize(Code.strip())\n",
    "    sentences = [cleanCode(sentence, remove_stopwords, split_text=True) for sentence in sentences if len(sentence) > 0]\n",
    "    return sentences\n",
    "\n",
    "sentences = []\n",
    "punkt_tokenizer = nltk.data.load('tokenizers/punkt/english.pickle')\n",
    "for Code in X_train_cleaned:\n",
    "    sentences += extract_sentences(Code, punkt_tokenizer)"
   ]
  },
  {
   "cell_type": "code",
   "execution_count": 9,
   "metadata": {},
   "outputs": [],
   "source": [
    "embed_size = 128  #embedding dimension                     \n",
    "w2v = Word2Vec(sentences, workers=4, size=embed_size, min_count = 10,window = 10, sample = 1e-3)\n",
    "w2v.init_sims(replace=True)\n",
    "w2v.save(\"w2v\")"
   ]
  },
  {
   "cell_type": "code",
   "execution_count": 10,
   "metadata": {},
   "outputs": [],
   "source": [
    "def transformedFeatures(Code, w2v_model, embed_size=128):\n",
    "\n",
    "    vocabulary = set(w2v_model.wv.index2word)\n",
    "    feat = np.zeros((embed_size,),dtype=float)\n",
    "\n",
    "    count = 0\n",
    "    flag = True\n",
    "    for word in Code:\n",
    "\n",
    "        if word in vocabulary: \n",
    "\n",
    "            count = count + 1.\n",
    "            feat = np.add(feat, w2v_model[word])\n",
    "            flag = False\n",
    "\n",
    "    if flag == False:\n",
    "        feat = np.divide(feat, count)\n",
    "\n",
    "    return feat\n",
    "\n",
    "\n",
    "def transformCodes(Codes, model, embed_size):\n",
    "\n",
    "    num_Codes = len(Codes)\n",
    "    \n",
    "    transformedCodeFeat = np.zeros((num_Codes,embed_size),dtype=float)\n",
    "    for idx, Codes in enumerate(Codes):\n",
    "        transformedCodeFeat[idx] = transformedFeatures(Code, model,embed_size)\n",
    "\n",
    "    return transformedCodeFeat"
   ]
  },
  {
   "cell_type": "code",
   "execution_count": 11,
   "metadata": {},
   "outputs": [],
   "source": [
    "# Pre-process Training Codes\n",
    "X_train_cleaned = [cleanCode(Code, remove_stopwords=True, split_text=True) for Code in X_train]\n",
    "train_vectors = transformCodes(X_train_cleaned, w2v, embed_size)"
   ]
  },
  {
   "cell_type": "code",
   "execution_count": 12,
   "metadata": {},
   "outputs": [],
   "source": [
    "# Load trained Word2Vec model\n",
    "X_test_cleaned = [cleanCode(Code, remove_stopwords=True, split_text=True) for Code in X_test]\n",
    "test_vectors = transformCodes(X_test_cleaned, w2v, embed_size)"
   ]
  },
  {
   "cell_type": "code",
   "execution_count": 13,
   "metadata": {},
   "outputs": [
    {
     "name": "stdout",
     "output_type": "stream",
     "text": [
      "Shape of embedding matrix :  (154, 128)\n"
     ]
    }
   ],
   "source": [
    "# Load trained Word2Vec model\n",
    "w2v = Word2Vec.load(\"w2v\")\n",
    "embedding_matrix = np.array(w2v.wv.syn0)\n",
    "print(\"Shape of embedding matrix : \", embedding_matrix.shape)"
   ]
  },
  {
   "cell_type": "code",
   "execution_count": 14,
   "metadata": {},
   "outputs": [],
   "source": [
    "# Fit tokenizer on training set and then transform training and test codes\n",
    "\n",
    "tokenizer = Tokenizer(nb_words=embedding_matrix.shape[0])\n",
    "tokenizer.fit_on_texts(X_train)\n",
    "train_seq = tokenizer.texts_to_sequences(X_train)\n",
    "test_seq = tokenizer.texts_to_sequences(X_test)\n",
    "\n",
    "X_train_seq = sequence.pad_sequences(train_seq, maxlen=20)\n",
    "X_test_seq = sequence.pad_sequences(test_seq, maxlen=20)\n",
    "y_train_seq = np_utils.to_categorical(y_train, 5)\n",
    "y_test_seq = np_utils.to_categorical(y_test, 5)"
   ]
  },
  {
   "cell_type": "code",
   "execution_count": 15,
   "metadata": {},
   "outputs": [
    {
     "name": "stdout",
     "output_type": "stream",
     "text": [
      "Model: \"sequential\"\n",
      "_________________________________________________________________\n",
      "Layer (type)                 Output Shape              Param #   \n",
      "=================================================================\n",
      "embedding (Embedding)        (None, None, 128)         19712     \n",
      "_________________________________________________________________\n",
      "bidirectional (Bidirectional (None, 1024)              2625536   \n",
      "_________________________________________________________________\n",
      "dense (Dense)                (None, 5)                 5125      \n",
      "_________________________________________________________________\n",
      "activation (Activation)      (None, 5)                 0         \n",
      "=================================================================\n",
      "Total params: 2,650,373\n",
      "Trainable params: 2,650,373\n",
      "Non-trainable params: 0\n",
      "_________________________________________________________________\n"
     ]
    }
   ],
   "source": [
    "# Model: Bidirectional LSTM with Word2Vec Embeddings\n",
    "\n",
    "model = Sequential(\n",
    "    [Embedding(embedding_matrix.shape[0],embedding_matrix.shape[1],weights=[embedding_matrix]),\n",
    "   Bidirectional(LSTM(512, dropout=0.3, recurrent_dropout=0.2)),\n",
    "   Dense(5),\n",
    "  Activation('softmax')]\n",
    ")\n",
    "\n",
    "model.summary() "
   ]
  },
  {
   "cell_type": "code",
   "execution_count": 16,
   "metadata": {},
   "outputs": [
    {
     "name": "stdout",
     "output_type": "stream",
     "text": [
      "Epoch 1/10\n",
      "56/56 [==============================] - 32s 525ms/step - loss: 0.4159 - accuracy: 0.5991 - val_loss: 0.3441 - val_accuracy: 0.6482\n",
      "Epoch 2/10\n",
      "56/56 [==============================] - 29s 513ms/step - loss: 0.3450 - accuracy: 0.6238 - val_loss: 0.2741 - val_accuracy: 0.7136\n",
      "Epoch 3/10\n",
      "56/56 [==============================] - 29s 513ms/step - loss: 0.2762 - accuracy: 0.7006 - val_loss: 0.2583 - val_accuracy: 0.7136\n",
      "Epoch 4/10\n",
      "56/56 [==============================] - 29s 511ms/step - loss: 0.2560 - accuracy: 0.7235 - val_loss: 0.2847 - val_accuracy: 0.7337\n",
      "Epoch 5/10\n",
      "56/56 [==============================] - 28s 507ms/step - loss: 0.2638 - accuracy: 0.7142 - val_loss: 0.2465 - val_accuracy: 0.7387\n",
      "Epoch 6/10\n",
      "56/56 [==============================] - 28s 506ms/step - loss: 0.2364 - accuracy: 0.7566 - val_loss: 0.2362 - val_accuracy: 0.7688\n",
      "Epoch 7/10\n",
      "56/56 [==============================] - 29s 522ms/step - loss: 0.2240 - accuracy: 0.7667 - val_loss: 0.2213 - val_accuracy: 0.7889\n",
      "Epoch 8/10\n",
      "56/56 [==============================] - 30s 534ms/step - loss: 0.2174 - accuracy: 0.7759 - val_loss: 0.2167 - val_accuracy: 0.7990\n",
      "Epoch 9/10\n",
      "56/56 [==============================] - 29s 514ms/step - loss: 0.2052 - accuracy: 0.7872 - val_loss: 0.2369 - val_accuracy: 0.7889\n",
      "Epoch 10/10\n",
      "56/56 [==============================] - 29s 520ms/step - loss: 0.2083 - accuracy: 0.7800 - val_loss: 0.2327 - val_accuracy: 0.7839\n"
     ]
    },
    {
     "data": {
      "text/plain": [
       "<tensorflow.python.keras.callbacks.History at 0x212e73cfb08>"
      ]
     },
     "execution_count": 16,
     "metadata": {},
     "output_type": "execute_result"
    }
   ],
   "source": [
    "# Compile & train model\n",
    "model.compile(loss='binary_crossentropy',optimizer='adam',metrics=['accuracy'])\n",
    "model.fit(X_train_seq, y_train_seq, batch_size=32, epochs=10, validation_split = 0.1, verbose=1)"
   ]
  },
  {
   "cell_type": "code",
   "execution_count": 17,
   "metadata": {},
   "outputs": [
    {
     "name": "stdout",
     "output_type": "stream",
     "text": [
      "27/27 [==============================] - 2s 83ms/step - loss: 0.2313 - accuracy: 0.7664\n",
      "Test accuracy : 0.7664\n"
     ]
    }
   ],
   "source": [
    "# Evaluate trained model\n",
    "_, test_accuracy = model.evaluate(X_test_seq, y_test_seq, batch_size=32)\n",
    "print(f'Test accuracy : {round(test_accuracy,4)}')"
   ]
  },
  {
   "cell_type": "code",
   "execution_count": 18,
   "metadata": {},
   "outputs": [
    {
     "data": {
      "image/png": "[encoded data removed]",
      "text/plain": [
       "<Figure size 720x720 with 1 Axes>"
      ]
     },
     "metadata": {
      "needs_background": "light"
     },
     "output_type": "display_data"
    }
   ],
   "source": [
    "#Receiver Operating Characterstic\n",
    "\n",
    "y_pred = [x[1] for x in model.predict_proba(X_test_seq)]\n",
    "y_test = [x.index(1) for x in y_test_seq.tolist()]\n",
    "\n",
    "fpr, tpr, thresholds = roc_curve(y_test, y_pred, pos_label = 1)\n",
    "roc_auc = auc(fpr, tpr)\n",
    "\n",
    "plt.figure(1, figsize = (10, 10))\n",
    "plt.plot(fpr, tpr, color='darkorange', lw=2, label=f'ROC curve (area = {round(roc_auc,2)})')\n",
    "plt.plot([0, 1], [0, 1], lw=2, linestyle='--')\n",
    "\n",
    "plt.xlabel('FPR')\n",
    "plt.ylabel('TPR')\n",
    "plt.xlim([0.0, 1.0])\n",
    "plt.ylim([0.0, 1.0])\n",
    "\n",
    "plt.title('ROC Curve')\n",
    "plt.legend(loc=\"lower right\")\n",
    "\n",
    "plt.show()"
   ]
  },
  {
   "cell_type": "code",
   "execution_count": 19,
   "metadata": {},
   "outputs": [],
   "source": [
    "# Saving Tokenizer\n",
    "with open('tokenizer.pickle', 'wb') as handle:\n",
    "    pickle.dump(tokenizer, handle, protocol=pickle.HIGHEST_PROTOCOL)\n",
    "\n",
    "# Save model architecture by serializing to JSON\n",
    "json_model = model.to_json()\n",
    "with open(\"model.json\", \"w\") as json_file:\n",
    "    json_file.write(json_model)\n",
    "\n",
    "# Save model weights by serializing to HDF5\n",
    "model.save_weights(\"model.h5\")"
   ]
  },
  {
   "cell_type": "code",
   "execution_count": null,
   "metadata": {},
   "outputs": [],
   "source": []
  },
  {
   "cell_type": "code",
   "execution_count": null,
   "metadata": {},
   "outputs": [],
   "source": []
  },
  {
   "cell_type": "code",
   "execution_count": null,
   "metadata": {},
   "outputs": [],
   "source": []
  }
 ],
 "metadata": {
  "kernelspec": {
   "display_name": "Python 3",
   "language": "python",
   "name": "python3"
  },
  "language_info": {
   "codemirror_mode": {
    "name": "ipython",
    "version": 3
   },
   "file_extension": ".py",
   "mimetype": "text/x-python",
   "name": "python",
   "nbconvert_exporter": "python",
   "pygments_lexer": "ipython3",
   "version": "3.7.6"
  }
 },
 "nbformat": 4,
 "nbformat_minor": 4
}
